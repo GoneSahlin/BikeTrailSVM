{
 "cells": [
  {
   "cell_type": "markdown",
   "metadata": {
    "pycharm": {
     "name": "#%% md\n"
    }
   },
   "source": [
    "## Bike Trail Classification Using SVM\n",
    "\n",
    "The objective of this program is to classify bike trails by their difficulty using support vector machines."
   ]
  },
  {
   "cell_type": "markdown",
   "metadata": {
    "pycharm": {
     "name": "#%% md\n"
    }
   },
   "source": [
    "### Reading Data\n",
    "\n",
    "First, we need to get the data into a DataFrame. The data comes from [TrailForks](https://www.trailforks.com/region/beacon-hill/trails/), and is stored in a CSV file named 'beacon_hill_trails.csv'. The data is a table of the runs at Beacon Hill, the local bike park in Spokane. It contains the name of each trail, its rating, distance, descent, and climb. Rating is the same as ski runs, where green is the easiest, then blue, black, double black, and finally, pro. The distance is the total length of the trail in feet. The descent is the total amount of elevation lost on the descents in feet. The climb is the total amount of elevation gained on the climbs in feet.\n",
    "\n",
    "The data can be read into a DataFrame using `pd.read_csv()`."
   ]
  },
  {
   "cell_type": "code",
   "execution_count": 2,
   "metadata": {
    "collapsed": false,
    "jupyter": {
     "outputs_hidden": false
    },
    "pycharm": {
     "name": "#%%\n"
    }
   },
   "outputs": [],
   "source": [
    "import pandas as pd\n",
    "\n",
    "trails_df = pd.read_csv('beacon_hill_trails.csv')"
   ]
  },
  {
   "cell_type": "markdown",
   "metadata": {
    "pycharm": {
     "name": "#%% md\n"
    }
   },
   "source": [
    "### Cleaning Data\n",
    "\n",
    "We then need to clean the data. Some of the data is missing, and has an NaN instead of a value. These values are all zero, because they represent when a trail does not have any descent or climb. We can change all of the NaN values to 0 using `.fillna(0)`."
   ]
  },
  {
   "cell_type": "code",
   "execution_count": 3,
   "metadata": {
    "collapsed": false,
    "jupyter": {
     "outputs_hidden": false
    },
    "pycharm": {
     "name": "#%%\n"
    }
   },
   "outputs": [],
   "source": [
    "trails_df['distance'] = trails_df['distance'].fillna(0)\n",
    "trails_df['descent'] = trails_df['descent'].fillna(0)\n",
    "trails_df['climb'] = trails_df['climb'].fillna(0)"
   ]
  },
  {
   "cell_type": "markdown",
   "source": [
    "### Graphs"
   ],
   "metadata": {
    "collapsed": false,
    "pycharm": {
     "name": "#%% md\n"
    }
   }
  },
  {
   "cell_type": "code",
   "execution_count": 32,
   "outputs": [
    {
     "data": {
      "text/plain": "<Figure size 432x288 with 1 Axes>",
      "image/png": "[encoded data removed]"
     },
     "metadata": {
      "needs_background": "light"
     },
     "output_type": "display_data"
    }
   ],
   "source": [
    "import matplotlib.pyplot as plt\n",
    "slope_ser = trails_df['descent'] / trails_df['distance'] * -1\n",
    "\n",
    "# print(slope_ser)\n",
    "\n",
    "# color_dict = {'green':0x00FE00, 'blue':0x0000FF, 'black':0x0000AA, 'double black':0x000000, 'pro':0xFF0A00}\n",
    "color_dict = {'green':'g', 'blue':'b', 'black':'k', 'double black':'m', 'pro':'y'}\n",
    "\n",
    "color_ser = trails_df['rating'].map(color_dict)\n",
    "plt.scatter(trails_df['descent'], trails_df['distance'], c=color_ser)\n",
    "plt.show()"
   ],
   "metadata": {
    "collapsed": false,
    "pycharm": {
     "name": "#%%\n"
    }
   }
  },
  {
   "cell_type": "markdown",
   "metadata": {
    "pycharm": {
     "name": "#%% md\n"
    }
   },
   "source": [
    "### Normalizing Data\n",
    "\n",
    "In order to use the data to make predictions, we need to normalize the data. Normalizing the data makes it so that the data in each column ranges from 0 to 1, which is important for training because it makes it so that each attribute is weighted equally."
   ]
  },
  {
   "cell_type": "code",
   "execution_count": 5,
   "metadata": {
    "collapsed": false,
    "jupyter": {
     "outputs_hidden": false
    },
    "pycharm": {
     "name": "#%%\n"
    }
   },
   "outputs": [],
   "source": [
    "from sklearn.preprocessing import MinMaxScaler\n",
    "\n",
    "y = trails_df['rating'].copy()\n",
    "x = trails_df[['distance', 'descent', 'climb']].copy()\n",
    "\n",
    "scaler = MinMaxScaler()\n",
    "\n",
    "x = scaler.fit_transform(x[['distance', 'descent', 'climb']])"
   ]
  },
  {
   "cell_type": "markdown",
   "metadata": {
    "pycharm": {
     "name": "#%% md\n"
    }
   },
   "source": [
    "### Training with a RBF SVM\n",
    "\n",
    "Here we are training a support vector machine with a radial basis function kernel. The RBF kernel is defined as $K_{RBF}(x, x') = exp[-\\lambda||x-x'||^2]$, where $\\lambda$ is the spread of the kernel.\n",
    "\n",
    "We can train an svm on this data using the svm from scikit-learn. We will be testing the accuracy of the classifier by using cross validation. This can be done with `cross_val_score` from scikit-learn.\n"
   ]
  },
  {
   "cell_type": "code",
   "execution_count": 6,
   "metadata": {
    "collapsed": false,
    "jupyter": {
     "outputs_hidden": false
    },
    "pycharm": {
     "name": "#%%\n"
    }
   },
   "outputs": [
    {
     "name": "stdout",
     "output_type": "stream",
     "text": [
      "[0.375      0.75       0.5        0.57142857 0.57142857 1.\n",
      " 0.71428571 0.28571429 0.42857143 0.71428571]\n",
      "Accuracy:  0.5910714285714286\n"
     ]
    },
    {
     "name": "stderr",
     "output_type": "stream",
     "text": [
      "C:\\Users\\zach\\anaconda3\\lib\\site-packages\\sklearn\\utils\\validation.py:67: FutureWarning: Pass C=128 as keyword args. From version 0.25 passing these as positional arguments will result in an error\n",
      "  warnings.warn(\"Pass {} as keyword args. From version 0.25 \"\n",
      "C:\\Users\\zach\\anaconda3\\lib\\site-packages\\sklearn\\model_selection\\_split.py:670: UserWarning: The least populated class in y has only 2 members, which is less than n_splits=10.\n",
      "  warnings.warn((\"The least populated class in y has only %d\"\n"
     ]
    }
   ],
   "source": [
    "from sklearn import svm\n",
    "from sklearn.model_selection import cross_val_score\n",
    "\n",
    "rbf_svm = svm.SVC(128)\n",
    "\n",
    "scores = cross_val_score(rbf_svm, x, y, cv=10)\n",
    "\n",
    "rbf_accuracy = sum(scores) / len(scores)\n",
    "\n",
    "print(scores)\n",
    "print(\"Accuracy: \", rbf_accuracy)"
   ]
  },
  {
   "cell_type": "markdown",
   "metadata": {
    "pycharm": {
     "name": "#%% md\n"
    }
   },
   "source": [
    "### Retrain with a Linear Kernel\n",
    "\n",
    "Now we will repeat the training with a linear kernel, instead of the default rbf kernel. The linear kernel is defined as $k(x,y)=x^Ty+c$. This is the simplest kernel, and uses linear equations to separate the points. This works best for datasets where the data is naturally separated by a straight line."
   ]
  },
  {
   "cell_type": "code",
   "execution_count": 7,
   "metadata": {
    "collapsed": false,
    "jupyter": {
     "outputs_hidden": false
    },
    "pycharm": {
     "name": "#%%\n"
    }
   },
   "outputs": [
    {
     "name": "stdout",
     "output_type": "stream",
     "text": [
      "[0.5        0.75       0.625      0.85714286 0.42857143 0.85714286\n",
      " 0.85714286 0.57142857 0.57142857 0.57142857]\n",
      "Accuracy:  0.6589285714285713\n"
     ]
    },
    {
     "name": "stderr",
     "output_type": "stream",
     "text": [
      "C:\\Users\\zach\\anaconda3\\lib\\site-packages\\sklearn\\model_selection\\_split.py:670: UserWarning: The least populated class in y has only 2 members, which is less than n_splits=10.\n",
      "  warnings.warn((\"The least populated class in y has only %d\"\n"
     ]
    }
   ],
   "source": [
    "linear_svm = svm.SVC(kernel='linear', C=128)\n",
    "\n",
    "scores = cross_val_score(linear_svm, x, y, cv=10)\n",
    "\n",
    "linear_accuracy = sum(scores) / len(scores)\n",
    "\n",
    "print(scores)\n",
    "print(\"Accuracy: \", linear_accuracy)"
   ]
  },
  {
   "cell_type": "markdown",
   "metadata": {
    "pycharm": {
     "name": "#%% md\n"
    }
   },
   "source": [
    "### Retrain with Polynomial Kernel\n",
    "\n",
    "Next, we will retrain with a polynomial kernel. The polynomial kernel is defined as $k(x,y)=(\\alpha x^Ty+c)^d$. This is similar to the linear kernel, except that the equation is raised to the degree of the polynomial. The default of the degree for the scikit-learn implementation is 3."
   ]
  },
  {
   "cell_type": "code",
   "execution_count": 8,
   "metadata": {
    "collapsed": false,
    "jupyter": {
     "outputs_hidden": false
    },
    "pycharm": {
     "name": "#%%\n"
    }
   },
   "outputs": [
    {
     "name": "stderr",
     "output_type": "stream",
     "text": [
      "C:\\Users\\zach\\anaconda3\\lib\\site-packages\\sklearn\\model_selection\\_split.py:670: UserWarning: The least populated class in y has only 2 members, which is less than n_splits=10.\n",
      "  warnings.warn((\"The least populated class in y has only %d\"\n"
     ]
    },
    {
     "name": "stdout",
     "output_type": "stream",
     "text": [
      "[0.5        0.75       0.625      0.85714286 0.71428571 0.57142857\n",
      " 0.57142857 0.28571429 0.42857143 0.57142857]\n",
      "Accuracy:  0.5875\n"
     ]
    }
   ],
   "source": [
    "poly_svm = svm.SVC(kernel='poly', C=128)\n",
    "\n",
    "scores = cross_val_score(poly_svm, x, y, cv=10)\n",
    "\n",
    "poly_accuracy = sum(scores) / len(scores)\n",
    "\n",
    "print(scores)\n",
    "print(\"Accuracy: \", poly_accuracy)"
   ]
  },
  {
   "cell_type": "markdown",
   "metadata": {
    "pycharm": {
     "name": "#%% md\n"
    }
   },
   "source": [
    "### Retrain with a Sigmoid Kernel\n",
    "\n",
    "Next, we will retrain with a sigmoid kernel. The sigmoid kernel is defined as $k(x,y)=tanh(\\alpha x^Ty+c)$. The sigmoid kernel would be best on a dataset which can be divided easily by a sigmoid function."
   ]
  },
  {
   "cell_type": "code",
   "execution_count": 9,
   "metadata": {
    "collapsed": false,
    "jupyter": {
     "outputs_hidden": false
    },
    "pycharm": {
     "name": "#%%\n"
    }
   },
   "outputs": [
    {
     "name": "stdout",
     "output_type": "stream",
     "text": [
      "[0.375      0.375      0.375      0.42857143 0.42857143 0.42857143\n",
      " 0.28571429 0.28571429 0.28571429 0.42857143]\n",
      "Accuracy:  0.36964285714285705\n"
     ]
    },
    {
     "name": "stderr",
     "output_type": "stream",
     "text": [
      "C:\\Users\\zach\\anaconda3\\lib\\site-packages\\sklearn\\model_selection\\_split.py:670: UserWarning: The least populated class in y has only 2 members, which is less than n_splits=10.\n",
      "  warnings.warn((\"The least populated class in y has only %d\"\n"
     ]
    }
   ],
   "source": [
    "sigmoid_svm = svm.SVC(kernel='sigmoid', C=.5)\n",
    "\n",
    "scores = cross_val_score(sigmoid_svm, x, y, cv=10)\n",
    "\n",
    "sigmoid_accuracy = sum(scores) / len(scores)\n",
    "\n",
    "print(scores)\n",
    "print(\"Accuracy: \", sigmoid_accuracy)"
   ]
  },
  {
   "cell_type": "markdown",
   "metadata": {
    "pycharm": {
     "name": "#%% md\n"
    }
   },
   "source": [
    "### Comparing Results\n",
    "\n",
    "The accuracies of the kernels are displayed below. I also found the accuracy of a stupid predictor which always picks the same rating to compare with the SVMs."
   ]
  },
  {
   "cell_type": "code",
   "execution_count": 10,
   "metadata": {},
   "outputs": [
    {
     "name": "stdout",
     "output_type": "stream",
     "text": [
      "RBF           0.591071\n",
      "linear        0.658929\n",
      "polynomial    0.587500\n",
      "sigmoid       0.369643\n",
      "stupid        0.369863\n",
      "dtype: float64\n"
     ]
    }
   ],
   "source": [
    "# stupid predictor accuracy\n",
    "stupid_accuracy = trails_df['rating'].value_counts()[0] / len(trails_df)\n",
    "\n",
    "accuracy_dict = {\"RBF\": rbf_accuracy, \"linear\": linear_accuracy, \"polynomial\": poly_accuracy, \"sigmoid\": sigmoid_accuracy, \"stupid\": stupid_accuracy}\n",
    "accuracy_df = pd.Series(accuracy_dict)\n",
    "\n",
    "print(accuracy_df)"
   ]
  },
  {
   "cell_type": "markdown",
   "metadata": {},
   "source": [
    "The linear kernel was the most accurate. This was surprising to me, because I did not expect the data to be able to be separated easily by a linear equation. This kernel was much more accurate with a high C value. The sigmoid kernel performed the worst, and was actually worse than the stupid predictor, which was just guessing 'blue' every time. This is very surprising, because I would have expected the SVM to just pick one rating if that was able to predict more accurately."
   ]
  }
 ],
 "metadata": {
  "kernelspec": {
   "display_name": "Python 3",
   "language": "python",
   "name": "python3"
  },
  "language_info": {
   "codemirror_mode": {
    "name": "ipython",
    "version": 3
   },
   "file_extension": ".py",
   "mimetype": "text/x-python",
   "name": "python",
   "nbconvert_exporter": "python",
   "pygments_lexer": "ipython3",
   "version": "3.8.5"
  }
 },
 "nbformat": 4,
 "nbformat_minor": 4
}